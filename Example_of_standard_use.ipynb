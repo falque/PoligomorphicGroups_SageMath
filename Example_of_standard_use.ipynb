{
 "cells": [
  {
   "cell_type": "code",
   "execution_count": 1,
   "metadata": {},
   "outputs": [],
   "source": [
    "load(\"new_methods_PermutationGroup_generic.py\")\n",
    "load(\"PoligomorphicGroup.py\")\n",
    "load(\"finer_classes_of_poligomorphic_gps.py\")\n",
    "load(\"PoligomorphicGroup_generic.py\")\n",
    "load(\"reshape_series.py\")\n",
    "load(\"classes_tests.py\")"
   ]
  },
  {
   "cell_type": "code",
   "execution_count": 2,
   "metadata": {},
   "outputs": [],
   "source": [
    "S_inf = SymInfinity()  # the (closed) infinite symmetric group (bijections NN --> NN)"
   ]
  },
  {
   "cell_type": "code",
   "execution_count": 3,
   "metadata": {},
   "outputs": [
    {
     "data": {
      "text/plain": [
       "True"
      ]
     },
     "execution_count": 3,
     "metadata": {},
     "output_type": "execute_result"
    }
   ],
   "source": [
    "S_inf.is_highly_homogeneous()"
   ]
  },
  {
   "cell_type": "code",
   "execution_count": 4,
   "metadata": {},
   "outputs": [
    {
     "data": {
      "text/plain": [
       "1/(-z + 1)"
      ]
     },
     "execution_count": 4,
     "metadata": {},
     "output_type": "execute_result"
    }
   ],
   "source": [
    "S_inf.profile_series()"
   ]
  },
  {
   "cell_type": "code",
   "execution_count": 5,
   "metadata": {},
   "outputs": [
    {
     "data": {
      "text/plain": [
       "-1/(x - 1)"
      ]
     },
     "execution_count": 5,
     "metadata": {},
     "output_type": "execute_result"
    }
   ],
   "source": [
    "AutQQ().profile_series(x)"
   ]
  },
  {
   "cell_type": "code",
   "execution_count": 6,
   "metadata": {},
   "outputs": [
    {
     "data": {
      "text/plain": [
       "Permutation Group with generators [(1,2,3,4,5,6,7)]  wreath  The closed infinite symmetric group S_infinity"
      ]
     },
     "execution_count": 6,
     "metadata": {},
     "output_type": "execute_result"
    }
   ],
   "source": [
    "G = PoligomorphicGroup_generic(CyclicPermutationGroup(7)); G   # simple instance"
   ]
  },
  {
   "cell_type": "code",
   "execution_count": 7,
   "metadata": {},
   "outputs": [
    {
     "data": {
      "text/plain": [
       "Cyclic group of order 7 as a permutation group"
      ]
     },
     "execution_count": 7,
     "metadata": {},
     "output_type": "execute_result"
    }
   ],
   "source": [
    "G.diagonal_action()  # diagonal action of G on all superblocks"
   ]
  },
  {
   "cell_type": "code",
   "execution_count": 8,
   "metadata": {},
   "outputs": [
    {
     "data": {
      "text/plain": [
       "[Permutation Group with generators [(1,2,3,4,5,6,7)]  wreath  The closed infinite symmetric group S_infinity]"
      ]
     },
     "execution_count": 8,
     "metadata": {},
     "output_type": "execute_result"
    }
   ],
   "source": [
    "SB_G = G.list_of_superblocks(); SB_G  # G has only one superblock"
   ]
  },
  {
   "cell_type": "code",
   "execution_count": 9,
   "metadata": {},
   "outputs": [
    {
     "data": {
      "text/plain": [
       "<class '__main__.SingleSuperblock'>"
      ]
     },
     "execution_count": 9,
     "metadata": {},
     "output_type": "execute_result"
    }
   ],
   "source": [
    "sb_G = SB_G[0]; parent(sb_G)"
   ]
  },
  {
   "cell_type": "code",
   "execution_count": 10,
   "metadata": {},
   "outputs": [
    {
     "data": {
      "text/plain": [
       "The closed infinite symmetric group S_infinity"
      ]
     },
     "execution_count": 10,
     "metadata": {},
     "output_type": "execute_result"
    }
   ],
   "source": [
    "sb_G.action_on_finite_blocks()"
   ]
  },
  {
   "cell_type": "code",
   "execution_count": 11,
   "metadata": {},
   "outputs": [
    {
     "data": {
      "text/plain": [
       "(1, 2, 3, 4, 5, 6, 7)"
      ]
     },
     "execution_count": 11,
     "metadata": {},
     "output_type": "execute_result"
    }
   ],
   "source": [
    "repres = G.blocks_from_superblocks()[0]; repres  # representative of the blocks of the only superblock here"
   ]
  },
  {
   "cell_type": "code",
   "execution_count": 12,
   "metadata": {},
   "outputs": [
    {
     "data": {
      "text/plain": [
       "Permutation Group with generators [(1,2,3,4,5,6,7)]"
      ]
     },
     "execution_count": 12,
     "metadata": {},
     "output_type": "execute_result"
    }
   ],
   "source": [
    "G.wreath_base_on_block(repres)  # default choice when defining G with PoligomorphicGroup_generic"
   ]
  },
  {
   "cell_type": "code",
   "execution_count": 13,
   "metadata": {},
   "outputs": [
    {
     "data": {
      "text/plain": [
       "True"
      ]
     },
     "execution_count": 13,
     "metadata": {},
     "output_type": "execute_result"
    }
   ],
   "source": [
    "sb_G.is_wreath_product()"
   ]
  },
  {
   "cell_type": "code",
   "execution_count": 14,
   "metadata": {},
   "outputs": [
    {
     "data": {
      "text/plain": [
       "1/(-z^70 + z^69 + 3*z^68 + 2*z^67 - 3*z^66 - 14*z^65 - 11*z^64 + 5*z^63 + 35*z^62 + 49*z^61 + 14*z^60 - 53*z^59 - 117*z^58 - 103*z^57 + 3*z^56 + 161*z^55 + 251*z^54 + 185*z^53 - 40*z^52 - 304*z^51 - 420*z^50 - 303*z^49 + 45*z^48 + 405*z^47 + 587*z^46 + 461*z^45 + 65*z^44 - 393*z^43 - 692*z^42 - 651*z^41 - 285*z^40 + 249*z^39 + 672*z^38 + 793*z^37 + 518*z^36 - 518*z^34 - 793*z^33 - 672*z^32 - 249*z^31 + 285*z^30 + 651*z^29 + 692*z^28 + 393*z^27 - 65*z^26 - 461*z^25 - 587*z^24 - 405*z^23 - 45*z^22 + 303*z^21 + 420*z^20 + 304*z^19 + 40*z^18 - 185*z^17 - 251*z^16 - 161*z^15 - 3*z^14 + 103*z^13 + 117*z^12 + 53*z^11 - 14*z^10 - 49*z^9 - 35*z^8 - 5*z^7 + 11*z^6 + 14*z^5 + 3*z^4 - 2*z^3 - 3*z^2 - z + 1)"
      ]
     },
     "execution_count": 14,
     "metadata": {},
     "output_type": "execute_result"
    }
   ],
   "source": [
    "G.profile_series()"
   ]
  },
  {
   "cell_type": "code",
   "execution_count": 15,
   "metadata": {},
   "outputs": [
    {
     "data": {
      "text/plain": [
       "1 * (1 - z^7)^-1 * (1 - z^6)^-1 * (1 - z^5)^-3 * (1 - z^4)^-5 * (1 - z^3)^-5 * (1 - z^2)^-3 * (1 - z)^-1"
      ]
     },
     "execution_count": 15,
     "metadata": {},
     "output_type": "execute_result"
    }
   ],
   "source": [
    "G.nice_factorization_series()"
   ]
  },
  {
   "cell_type": "code",
   "execution_count": 16,
   "metadata": {},
   "outputs": [
    {
     "data": {
      "text/plain": [
       "816"
      ]
     },
     "execution_count": 16,
     "metadata": {},
     "output_type": "execute_result"
    }
   ],
   "source": [
    "G.profile(10)"
   ]
  },
  {
   "cell_type": "code",
   "execution_count": 17,
   "metadata": {},
   "outputs": [
    {
     "data": {
      "text/plain": [
       "[1, 1, 4, 9, 20, 38, 79, 144, 267, 468, 816]"
      ]
     },
     "execution_count": 17,
     "metadata": {},
     "output_type": "execute_result"
    }
   ],
   "source": [
    "G.profile_first_values(10)"
   ]
  },
  {
   "cell_type": "code",
   "execution_count": 18,
   "metadata": {},
   "outputs": [],
   "source": [
    "# A more complex instance"
   ]
  },
  {
   "cell_type": "code",
   "execution_count": 19,
   "metadata": {},
   "outputs": [],
   "source": [
    "finite_gp = SymmetricGroup(3).direct_product(SymmetricGroup(2), False)  # S3 * S2"
   ]
  },
  {
   "cell_type": "code",
   "execution_count": 20,
   "metadata": {},
   "outputs": [],
   "source": [
    "C3 = CyclicPermutationGroup(3); trivial = PermutationGroup([])"
   ]
  },
  {
   "cell_type": "code",
   "execution_count": 21,
   "metadata": {},
   "outputs": [],
   "source": [
    "G2 = PoligomorphicGroup_generic(finite_gp, block_system=[[1,2,3], [4,5]], wreath_bases=[[[1,2,3], C3]], hhomogeneous_groups=[[[4,5], trivial]])"
   ]
  },
  {
   "cell_type": "code",
   "execution_count": 22,
   "metadata": {},
   "outputs": [],
   "source": [
    "# By default, if the finite group is not transitive, the blocks are chosen to be its orbits anyway\n",
    "# so it was not necessary to specify them here"
   ]
  },
  {
   "cell_type": "code",
   "execution_count": 23,
   "metadata": {},
   "outputs": [],
   "source": [
    "# hhomogeneous_groups=[[[4,5], trivial]] makes the block [4,5] the kernel of G2\n",
    "# (As of now, the kernel, if any, must be located on the last blocks of the list)\n",
    "# Since [1,2,3] is not a singleton, its highly homogeneous extension is set to SymInfinity()\n",
    "# (could be changed to trivial, but not to other highly homogeneous groups, for G2 would not be P-oligomorphic anymore)"
   ]
  },
  {
   "cell_type": "code",
   "execution_count": 24,
   "metadata": {},
   "outputs": [],
   "source": [
    "# wreath_bases=[[[1,2,3], C3] makes this superblock more complex than a wreath product\n",
    "# A wreath base could also be specified for the kernel but it does not change anything"
   ]
  },
  {
   "cell_type": "code",
   "execution_count": 25,
   "metadata": {},
   "outputs": [
    {
     "data": {
      "text/plain": [
       "Permutation Group with generators [(1,2,3)]  wreath  The closed infinite symmetric group S_infinity  with diagonal action of  Permutation Group with generators [(2,3), (1,3,2)] with kernel domain [4, 5]"
      ]
     },
     "execution_count": 25,
     "metadata": {},
     "output_type": "execute_result"
    }
   ],
   "source": [
    "G2  "
   ]
  },
  {
   "cell_type": "code",
   "execution_count": 26,
   "metadata": {},
   "outputs": [
    {
     "data": {
      "text/plain": [
       "Permutation Group with generators [(4,5), (1,2), (1,2,3)]"
      ]
     },
     "execution_count": 26,
     "metadata": {},
     "output_type": "execute_result"
    }
   ],
   "source": [
    "G2.diagonal_action()"
   ]
  },
  {
   "cell_type": "code",
   "execution_count": 27,
   "metadata": {},
   "outputs": [
    {
     "data": {
      "text/plain": [
       "[Permutation Group with generators [(1,2,3)]  wreath  The closed infinite symmetric group S_infinity  with diagonal action of  Permutation Group with generators [(2,3), (1,3,2)]]"
      ]
     },
     "execution_count": 27,
     "metadata": {},
     "output_type": "execute_result"
    }
   ],
   "source": [
    "G2.list_of_superblocks()"
   ]
  },
  {
   "cell_type": "code",
   "execution_count": 28,
   "metadata": {},
   "outputs": [
    {
     "data": {
      "text/plain": [
       "True"
      ]
     },
     "execution_count": 28,
     "metadata": {},
     "output_type": "execute_result"
    }
   ],
   "source": [
    "G2.has_single_superblock()"
   ]
  },
  {
   "cell_type": "code",
   "execution_count": 29,
   "metadata": {},
   "outputs": [
    {
     "data": {
      "text/plain": [
       "True"
      ]
     },
     "execution_count": 29,
     "metadata": {},
     "output_type": "execute_result"
    }
   ],
   "source": [
    "G2.has_kernel()"
   ]
  },
  {
   "cell_type": "code",
   "execution_count": 30,
   "metadata": {},
   "outputs": [
    {
     "data": {
      "text/plain": [
       "[4, 5]"
      ]
     },
     "execution_count": 30,
     "metadata": {},
     "output_type": "execute_result"
    }
   ],
   "source": [
    "G2.kernel()"
   ]
  },
  {
   "cell_type": "code",
   "execution_count": 31,
   "metadata": {},
   "outputs": [
    {
     "data": {
      "text/plain": [
       "[1, 2, 5, 8, 13, 18, 25, 32, 41, 50, 61, 72, 85, 98, 113, 128]"
      ]
     },
     "execution_count": 31,
     "metadata": {},
     "output_type": "execute_result"
    }
   ],
   "source": [
    "var('y'); G2.profile_first_values(15)"
   ]
  },
  {
   "cell_type": "code",
   "execution_count": null,
   "metadata": {},
   "outputs": [],
   "source": []
  }
 ],
 "metadata": {
  "kernelspec": {
   "display_name": "SageMath 8.9",
   "language": "sage",
   "name": "sagemath"
  },
  "language_info": {
   "codemirror_mode": {
    "name": "ipython",
    "version": 2
   },
   "file_extension": ".py",
   "mimetype": "text/x-python",
   "name": "python",
   "nbconvert_exporter": "python",
   "pygments_lexer": "ipython2",
   "version": "2.7.15"
  }
 },
 "nbformat": 4,
 "nbformat_minor": 2
}
